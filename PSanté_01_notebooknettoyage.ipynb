{
 "cells": [
  {
   "cell_type": "markdown",
   "metadata": {},
   "source": [
    "## Notebook du nettoyage des données  \n",
    "Lire et Importer les Librairies"
   ]
  },
  {
   "cell_type": "code",
   "execution_count": 1,
   "metadata": {},
   "outputs": [
    {
     "name": "stderr",
     "output_type": "stream",
     "text": [
      "/Applications/anaconda3/lib/python3.8/site-packages/IPython/core/interactiveshell.py:3145: DtypeWarning: Columns (0,12,26,27,28,30,51,63) have mixed types.Specify dtype option on import or set low_memory=False.\n",
      "  has_raised = await self.run_ast_nodes(code_ast.body, cell_name,\n"
     ]
    },
    {
     "name": "stdout",
     "output_type": "stream",
     "text": [
      "Il y a: 1524579 lignes et 183 colonnes dans le dataframe enopenfoodfactsorgproducts.csv.\n"
     ]
    }
   ],
   "source": [
    "import pandas as pd\n",
    "import numpy as np\n",
    "\n",
    "# lire enopenfoodfactsorgproducts.csv dans un dataframe pandas\n",
    "open_food = pd.read_csv(\"enopenfoodfactsorgproducts.csv\", encoding=\"utf8\", sep='\\t')\n",
    "\n",
    "# combien de lignes et combien de colonnes?\n",
    "print(\"Il y a:\",open_food.shape[0],\"lignes et\", open_food.shape[1],\"colonnes dans le dataframe enopenfoodfactsorgproducts.csv.\")\n"
   ]
  },
  {
   "cell_type": "code",
   "execution_count": 55,
   "metadata": {},
   "outputs": [],
   "source": [
    "def vals_manquantes(open_food):\n",
    "    # nombre de valeurs manquantes pour chaque colonne \n",
    "    missing_open_food = open_food.isnull().sum()\n",
    "    # pourcentage de valeurs manquantes dans open_food . \n",
    "    null_counts_pct = missing_open_food / open_food.shape[0] * 100\n",
    "    # plus facile a visualiser ensemble (le nombre et le pourcentage):\n",
    "    nulls_df = pd.DataFrame({'null_counts': missing_open_food, 'null_pct': null_counts_pct})\n",
    "    # ranger par pourcentages\n",
    "    nulls_df = nulls_df.sort_values(by = \"null_pct\")\n",
    "    return nulls_df\n",
    "\n",
    "nulls_df = vals_manquantes(open_food)\n",
    "# fichier csv pour inspecter\n",
    "#nulls_df.to_csv('missing_open_food1.csv') \n"
   ]
  },
  {
   "cell_type": "code",
   "execution_count": 3,
   "metadata": {},
   "outputs": [],
   "source": [
    "# fonction pour heatmap des valeurs manquantes\n",
    "def make_heatmap(open_food, rot_degr, leng, height):\n",
    "    import matplotlib.pyplot as plt\n",
    "    import seaborn as sns\n",
    "\n",
    "    %matplotlib inline\n",
    "\n",
    "    fig, axes = plt.subplots(figsize=[leng,height]) \n",
    "    # heatmap des valeurs manquantes\n",
    "    sns_plot = sns.heatmap(open_food.isnull(), cbar = False)\n",
    "    sns.set(font_scale = 1)  \n",
    "    sns_plot.set_title('Heatmap des Valeurs Manquantes', fontsize = 15)\n",
    "    plt.xticks(rotation = rot_degr, fontsize = 12)\n",
    "    plt.yticks(rotation = 0, fontsize = 13)\n",
    "    fig = sns_plot.get_figure()\n",
    "    plt.show()\n",
    "    # les valeurs manquantes sont en beige, les autres valeurs sont en noir. \n",
    "    \n",
    "make_heatmap(open_food, 60, 10, 6)\n"
   ]
  },
  {
   "cell_type": "markdown",
   "metadata": {},
   "source": [
    "## Explications \n",
    "Supprimer les colonnes qui n'ont pas assez de valeurs"
   ]
  },
  {
   "cell_type": "code",
   "execution_count": 54,
   "metadata": {},
   "outputs": [],
   "source": [
    "open_food2 = open_food.copy()\n",
    "\n",
    "# inspecter le score nutrition uk pour voir si il est pertinent\n",
    "nutruk_full = open_food2[open_food2['nutrition-score-uk_100g'].notnull() == True]\n",
    "#nutruk_full.to_csv('nutruk_full.csv')\n",
    "\n",
    "# pour avoir la valeur de thresh que l'on utilisera avec .dropna \n",
    "vals_pos = open_food2.notnull().sum().sort_values(ascending=False)\n",
    "#vals_pos.to_csv('mostcompleted.csv')\n"
   ]
  },
  {
   "cell_type": "code",
   "execution_count": 56,
   "metadata": {},
   "outputs": [
    {
     "name": "stdout",
     "output_type": "stream",
     "text": [
      "Il y a: 1524579 lignes et 101 colonnes dans le dataframe openfood.\n"
     ]
    }
   ],
   "source": [
    "# supprimer les colonnes qui n'ont pas assez d'informations\n",
    "open_food2 = open_food2.dropna(axis = 1, thresh = 6000)\n",
    "print(\"Il y a:\",open_food2.shape[0],\"lignes et\", open_food2.shape[1],\"colonnes dans le dataframe openfood.\")\n"
   ]
  },
  {
   "cell_type": "markdown",
   "metadata": {},
   "source": [
    "## Explications\n",
    "Vérifier à nouveau les valeurs manquantes, maintenant que certaines colonnes sont supprimées: faire un choix des colonnes.\n",
    "Vérifier si certaines colonnes sont les mêmes. "
   ]
  },
  {
   "cell_type": "code",
   "execution_count": 57,
   "metadata": {},
   "outputs": [],
   "source": [
    "# supprimer certaines colonnes avec regex\n",
    "pattern_list = [r\"categories\", r\"_en\", r\"image\", r\"manufacturing\", r\"packaging\", r\"states\", \n",
    "                r\"tags\", r\"url\"]\n",
    "cols2 = open_food2.columns \n",
    "\n",
    "for p in pattern_list:\n",
    "        nopat = cols2.str.contains(p, na=False)\n",
    "        cols2 = cols2[~nopat]\n",
    "\n",
    "# supprimer les colonnes qui présentent le pattern qui ne nous intéresse pas\n",
    "open_food3 = open_food2[cols2].copy()\n",
    "\n",
    "print(len(open_food3.columns))"
   ]
  },
  {
   "cell_type": "code",
   "execution_count": 58,
   "metadata": {},
   "outputs": [
    {
     "data": {
      "text/plain": [
       "True"
      ]
     },
     "execution_count": 58,
     "metadata": {},
     "output_type": "execute_result"
    }
   ],
   "source": [
    "# check duplicates pour les colonnes energy\n",
    "ener_full = open_food3[open_food3[\"energy-kj_100g\"].notnull() == True]\n",
    "ener_full[\"energy-kj_100g\"].equals(ener_full['energy_100g'])\n",
    "# les colonnes sont les mêmes si l'on enlève les valeurs nulles de energy_kj_100g"
   ]
  },
  {
   "cell_type": "code",
   "execution_count": 59,
   "metadata": {},
   "outputs": [
    {
     "data": {
      "text/plain": [
       "True"
      ]
     },
     "execution_count": 59,
     "metadata": {},
     "output_type": "execute_result"
    }
   ],
   "source": [
    "# check duplicates pour la nutrition score vs score fr\n",
    "open_food3[\"nutriscore_score\"].equals(open_food3['nutrition-score-fr_100g'])"
   ]
  },
  {
   "cell_type": "code",
   "execution_count": 60,
   "metadata": {},
   "outputs": [
    {
     "name": "stdout",
     "output_type": "stream",
     "text": [
      "67\n",
      "Il y a: 1524579 lignes et 67 colonnes dans le dataframe open_food.\n"
     ]
    }
   ],
   "source": [
    "print(\"Il y a:\",open_food3.shape[0],\"lignes et\", open_food3.shape[1],\"colonnes dans le dataframe open_food.\")\n",
    "#open_food3.columns "
   ]
  },
  {
   "cell_type": "code",
   "execution_count": 61,
   "metadata": {},
   "outputs": [],
   "source": [
    "nulls_df3 = vals_manquantes(open_food3)\n",
    "#nulls_df3.to_csv('missing_open_food3.csv') \n"
   ]
  },
  {
   "cell_type": "markdown",
   "metadata": {},
   "source": [
    "## Explications\n",
    "Créer un dataframe avec juste les colonnes qui nous intéressent"
   ]
  },
  {
   "cell_type": "code",
   "execution_count": 63,
   "metadata": {},
   "outputs": [
    {
     "name": "stdout",
     "output_type": "stream",
     "text": [
      "Il y a: 1524579 lignes et 26 colonnes dans le dataframe open_food.\n"
     ]
    }
   ],
   "source": [
    "open_food4 = open_food3.copy()\n",
    "\n",
    "open_food4 = open_food4[['code', 'creator', \n",
    "                         'created_t', 'created_datetime',\n",
    "                         'product_name', 'generic_name', 'brands',\n",
    "                         'stores','countries',\n",
    "                         'ingredients_from_palm_oil_n', 'ingredients_that_may_be_from_palm_oil_n', \n",
    "                         'nutriscore_score', 'nutriscore_grade',\n",
    "                         'energy-kcal_100g','energy_100g', \n",
    "                         'fat_100g', 'saturated-fat_100g',\n",
    "                         'carbohydrates_100g', 'sugars_100g',\n",
    "                         'fiber_100g',\n",
    "                         'proteins_100g',\n",
    "                         'salt_100g', 'sodium_100g',\n",
    "                         'fruits-vegetables-nuts_100g', 'fruits-vegetables-nuts-estimate_100g']]\n",
    "\n",
    "open_food4.reset_index(inplace=True)\n",
    "print(\"Il y a:\",open_food4.shape[0],\"lignes et\", open_food4.shape[1],\"colonnes dans le dataframe open_food.\")"
   ]
  },
  {
   "cell_type": "code",
   "execution_count": 12,
   "metadata": {},
   "outputs": [
    {
     "name": "stdout",
     "output_type": "stream",
     "text": [
      "['index', 'code', 'creator', 'created_t', 'created_datetime', 'product_name', 'generic_name', 'brands', 'stores', 'countries', 'ingredients_from_palm_oil_n', 'ingredients_that_may_be_from_palm_oil_n', 'nutriscore_score', 'nutriscore_grade', 'energy-kcal_100g', 'energy_100g', 'fat_100g', 'saturated-fat_100g', 'carbohydrates_100g', 'sugars_100g', 'fiber_100g', 'proteins_100g', 'salt_100g', 'sodium_100g', 'fruits-vegetables-nuts_100g', 'fruits-vegetables-nuts-estimate_100g']\n",
      "['nutriscore_score', 'nutriscore_grade', 'energy-kcal_100g', 'energy_100g', 'fat_100g', 'saturated-fat_100g', 'carbohydrates_100g', 'sugars_100g', 'fiber_100g', 'proteins_100g', 'salt_100g', 'sodium_100g', 'fruits-vegetables-nuts_100g', 'fruits-vegetables-nuts-estimate_100g', 'product_name']\n",
      "['energy-kcal_100g', 'energy_100g', 'fat_100g', 'saturated-fat_100g', 'carbohydrates_100g', 'sugars_100g', 'fiber_100g', 'proteins_100g', 'salt_100g', 'sodium_100g']\n"
     ]
    }
   ],
   "source": [
    "food_cols = open_food4.columns.tolist()\n",
    "print(food_cols)\n",
    "\n",
    "sub = open_food4.columns[12:].tolist() \n",
    "sub.append(food_cols[5])\n",
    "print(sub)\n",
    "\n",
    "sub3 = food_cols[14:-2]\n",
    "print(sub3)"
   ]
  },
  {
   "cell_type": "code",
   "execution_count": 13,
   "metadata": {},
   "outputs": [
    {
     "name": "stdout",
     "output_type": "stream",
     "text": [
      "Il y a: 1457363 lignes et 26 colonnes dans le dataframe open_food.\n",
      "Il y a: 1211156 lignes et 26 colonnes dans le dataframe open_food.\n"
     ]
    }
   ],
   "source": [
    "# supprimer les lignes qui n'ont pas assez d'informations\n",
    "\n",
    "# on supprime les lignes qui n'ont pas de nom de produit et pas d'information de nutrition\n",
    "open_food4 = open_food4.dropna(axis=0, how=\"all\", subset= sub)\n",
    "print(\"Il y a:\",open_food4.shape[0],\"lignes et\", open_food4.shape[1],\"colonnes dans le dataframe open_food.\")\n",
    "\n",
    "# on supprime les lignes qui n'ont pas au moins 4 valeurs non nulles pour les colonnes quantitatives\n",
    "open_food4 = open_food4.dropna(axis=0, how=\"all\", subset= sub3, thresh = 5)\n",
    "print(\"Il y a:\",open_food4.shape[0],\"lignes et\", open_food4.shape[1],\"colonnes dans le dataframe open_food.\")\n"
   ]
  },
  {
   "cell_type": "code",
   "execution_count": 14,
   "metadata": {},
   "outputs": [
    {
     "name": "stdout",
     "output_type": "stream",
     "text": [
      "['ingredients_from_palm_oil_n', 'ingredients_that_may_be_from_palm_oil_n', 'nutriscore_score', 'nutriscore_grade', 'energy-kcal_100g', 'energy_100g', 'fat_100g', 'saturated-fat_100g', 'carbohydrates_100g', 'sugars_100g', 'fiber_100g', 'proteins_100g', 'salt_100g', 'sodium_100g', 'fruits-vegetables-nuts_100g', 'fruits-vegetables-nuts-estimate_100g', 'creator']\n",
      "17\n",
      "Il y a: 973765 lignes et 26 colonnes dans le dataframe open_food.\n"
     ]
    }
   ],
   "source": [
    "# vérifier les valeurs dupliquées\n",
    "duplicateRowsDF = open_food4[open_food4.duplicated(keep=False)]\n",
    "#duplicateRowsDF.to_csv('duplicateRowsDF.csv')\n",
    "\n",
    "sub1 = open_food4.columns[10:].tolist()\n",
    "sub1.append(open_food4.columns[2])\n",
    "print(sub1)\n",
    "print(len(sub1))\n",
    "\n",
    "duplicateRowsDF = open_food4[open_food4.duplicated(sub1, keep=False)]\n",
    "duplicateRowsDF = duplicateRowsDF.sort_values(by = 'energy_100g')\n",
    "#duplicateRowsDF.to_csv('duplicateRowsDFcode.csv')\n",
    "\n",
    "# supprimer les doublons (même createur et toutes les mêmes valeurs quantitatives)\n",
    "open_food5 = open_food4.drop_duplicates(sub1, keep='first')\n",
    "print(\"Il y a:\",open_food5.shape[0],\"lignes et\", open_food5.shape[1],\"colonnes dans le dataframe open_food.\")\n"
   ]
  },
  {
   "cell_type": "code",
   "execution_count": 15,
   "metadata": {},
   "outputs": [],
   "source": [
    "nulls_df5 = vals_manquantes(open_food5)\n",
    "#nulls_df5.to_csv('missing_open_food5.csv')\n"
   ]
  },
  {
   "cell_type": "code",
   "execution_count": 16,
   "metadata": {},
   "outputs": [
    {
     "name": "stderr",
     "output_type": "stream",
     "text": [
      "<ipython-input-16-6f347e797bc5>:4: SettingWithCopyWarning: \n",
      "A value is trying to be set on a copy of a slice from a DataFrame\n",
      "\n",
      "See the caveats in the documentation: https://pandas.pydata.org/pandas-docs/stable/user_guide/indexing.html#returning-a-view-versus-a-copy\n",
      "  open_food6.product_name[open_food6.generic_name.isnull() == False] = open_food5.product_name.str.cat(open_food5[\"generic_name\"], sep = ' ', na_rep= \" \")\n"
     ]
    },
    {
     "data": {
      "text/plain": [
       "Index(['index', 'code', 'creator', 'created_t', 'created_datetime',\n",
       "       'product_name', 'generic_name', 'brands', 'stores', 'countries',\n",
       "       'ingredients_from_palm_oil_n',\n",
       "       'ingredients_that_may_be_from_palm_oil_n', 'nutriscore_score',\n",
       "       'nutriscore_grade', 'energy-kcal_100g', 'energy_100g_kj', 'fat_100g',\n",
       "       'saturated_fat_100g', 'carbohydrates_100g', 'sugars_100g', 'fiber_100g',\n",
       "       'proteins_100g', 'salt_100g', 'sodium_100g',\n",
       "       'fruits_vegetables_nuts_100g', 'fruits_vegetables_nuts_estimate_100g'],\n",
       "      dtype='object')"
      ]
     },
     "execution_count": 16,
     "metadata": {},
     "output_type": "execute_result"
    }
   ],
   "source": [
    "open_food6 = open_food5.copy()\n",
    "\n",
    "# si il y a un generic name, le rajouter au product name\n",
    "open_food6.product_name[open_food6.generic_name.isnull() == False] = open_food5.product_name.str.cat(open_food5[\"generic_name\"], sep = ' ', na_rep= \" \")\n",
    "\n",
    "# renommer certaines colonnes pour avoir _ au lieu de -\n",
    "open_food6.rename(columns = {'saturated-fat_100g':'saturated_fat_100g'}, inplace = True)\n",
    "open_food6.rename(columns = {'fruits-vegetables-nuts_100g':'fruits_vegetables_nuts_100g'}, inplace = True)\n",
    "open_food6.rename(columns = {'fruits-vegetables-nuts-estimate_100g':'fruits_vegetables_nuts_estimate_100g'}, inplace = True)\n",
    "open_food6.rename(columns = {'energy_100g':'energy_100g_kj'}, inplace = True)\n",
    "\n",
    "open_food6.columns"
   ]
  },
  {
   "cell_type": "markdown",
   "metadata": {},
   "source": [
    "## Explications\n",
    "Inspecter la correlation pour les colonnes fruits, gras etc & pour les colonnes carbon"
   ]
  },
  {
   "cell_type": "code",
   "execution_count": 17,
   "metadata": {},
   "outputs": [
    {
     "data": {
      "image/png": "[encoded data removed]",
      "text/plain": [
       "<Figure size 792x360 with 1 Axes>"
      ]
     },
     "metadata": {
      "needs_background": "light"
     },
     "output_type": "display_data"
    }
   ],
   "source": [
    "import matplotlib.pyplot as plt\n",
    "import seaborn as sns\n",
    "\n",
    "# fonction plot_correlations() pour heatmap des corrélations\n",
    "def plot_correlations(df, name_csv):\n",
    "    # créer une matrice de correlation \n",
    "    cols_with_vals = df.columns[1:]\n",
    "    \n",
    "    # On peut calculer la relation entre deux colonnes: la correlation. \n",
    "    # on utilise la méthode dataframe.corr() \n",
    "    our_corr = df[cols_with_vals].corr()\n",
    "    \n",
    "    # our_corr.to_csv('{}.csv'.format(name_csv))\n",
    "    our_corr = our_corr.iloc[1:]\n",
    "    # créer un mask triangulaire pour ne pas répéter les valeurs et que le heatmap soit plus facile à lire\n",
    "    # la fonction np.triu() nous donne une copie de la matrice avec les elements en dessous de la diagonale  \n",
    "    mask = np.triu(np.ones_like(our_corr), k=1)\n",
    "    \n",
    "    # heatmap des valeurs\n",
    "    plt.figure(figsize=(11,5))\n",
    "    ax = sns.heatmap(our_corr, vmin=-1, vmax=1, cbar=False,\n",
    "                     cmap='RdBu', mask=mask, annot=True)\n",
    "    # formatter le texte du graphique, et cacher les labels pour valeurs près de 0\n",
    "    for text in ax.texts:\n",
    "        t = float(text.get_text())\n",
    "        if -0.005 < t < 0.005:\n",
    "            text.set_text('')\n",
    "        else:\n",
    "            text.set_text(round(t, 2))\n",
    "    plt.xticks(rotation=70, fontsize = 12)\n",
    "    plt.yticks(rotation=0, fontsize = 13)\n",
    "    plt.title('Heatmap des Corrélations', fontsize = 18)\n",
    "    plt.show()\n",
    "    \n",
    "list = ['index', 'code', 'creator', 'nutriscore_score',\n",
    "       'nutriscore_grade', 'energy-kcal_100g', 'energy_100g_kj', 'fat_100g',\n",
    "       'saturated_fat_100g', 'carbohydrates_100g', 'sugars_100g', 'fiber_100g',\n",
    "       'proteins_100g', 'salt_100g', 'sodium_100g',\n",
    "       'fruits_vegetables_nuts_100g', 'fruits_vegetables_nuts_estimate_100g']\n",
    "\n",
    "plot_correlations(open_food6[list], \"correlation_matrix\")\n"
   ]
  },
  {
   "cell_type": "code",
   "execution_count": 18,
   "metadata": {},
   "outputs": [],
   "source": [
    "nulls_df6 = vals_manquantes(open_food6)\n",
    "#nulls_df6.to_csv('missing_open_food6.csv')\n"
   ]
  },
  {
   "cell_type": "markdown",
   "metadata": {},
   "source": [
    "## Explications\n",
    "Selon les informations que nous avons obtenues avant, nous allons supprimer certaines colonnes "
   ]
  },
  {
   "cell_type": "code",
   "execution_count": 65,
   "metadata": {},
   "outputs": [
    {
     "name": "stdout",
     "output_type": "stream",
     "text": [
      "Index(['index', 'code', 'creator', 'created_t', 'created_datetime',\n",
      "       'product_name', 'generic_name', 'brands', 'stores', 'countries',\n",
      "       'ingredients_from_palm_oil_n',\n",
      "       'ingredients_that_may_be_from_palm_oil_n', 'nutriscore_score',\n",
      "       'nutriscore_grade', 'energy-kcal_100g', 'energy_100g_kj', 'fat_100g',\n",
      "       'saturated_fat_100g', 'carbohydrates_100g', 'sugars_100g', 'fiber_100g',\n",
      "       'proteins_100g', 'salt_100g', 'sodium_100g',\n",
      "       'fruits_vegetables_nuts_100g', 'fruits_vegetables_nuts_estimate_100g'],\n",
      "      dtype='object')\n"
     ]
    },
    {
     "data": {
      "text/plain": [
       "Index(['index', 'creator', 'product_name', 'nutriscore_score',\n",
       "       'nutriscore_grade', 'energy-kcal_100g', 'energy_100g_kj', 'fat_100g',\n",
       "       'saturated_fat_100g', 'carbohydrates_100g', 'sugars_100g', 'fiber_100g',\n",
       "       'proteins_100g', 'salt_100g', 'sodium_100g',\n",
       "       'fruits_vegetables_nuts_100g', 'fruits_vegetables_nuts_estimate_100g'],\n",
       "      dtype='object')"
      ]
     },
     "execution_count": 65,
     "metadata": {},
     "output_type": "execute_result"
    }
   ],
   "source": [
    "print(open_food6.columns)\n",
    "\n",
    "# supprimer les colonnes qui ne nous intéressent plus \n",
    "open_food7 = open_food6.drop(['code', 'created_t', 'created_datetime',\n",
    "                              'generic_name', 'brands', 'stores', 'countries',\n",
    "                              'ingredients_from_palm_oil_n',\n",
    "                              'ingredients_that_may_be_from_palm_oil_n'], axis=1).copy()\n",
    "\n",
    "open_food7.columns\n"
   ]
  },
  {
   "cell_type": "code",
   "execution_count": 20,
   "metadata": {},
   "outputs": [],
   "source": [
    "# make_heatmap(open_food7, 40, 10, 7)\n"
   ]
  },
  {
   "cell_type": "markdown",
   "metadata": {},
   "source": [
    "## Traitement de Valeurs Aberrantes"
   ]
  },
  {
   "cell_type": "code",
   "execution_count": 68,
   "metadata": {},
   "outputs": [
    {
     "name": "stdout",
     "output_type": "stream",
     "text": [
      "Il y a: 973765 lignes et 17 colonnes dans le dataframe.\n"
     ]
    }
   ],
   "source": [
    "print(\"Il y a:\",open_food7.shape[0],\"lignes et\", open_food7.shape[1],\"colonnes dans le dataframe.\")\n",
    "\n",
    "open_food17 = open_food7.sort_values(by = \"energy_100g_kj\", ascending=False)\n",
    "#open_food17.head(8000).to_csv('energy_vals_check.csv')\n",
    "\n",
    "open_food17 = open_food7.sort_values(by = 'energy-kcal_100g', ascending=False)\n",
    "#open_food17.tail(80000).to_csv('energy_vals_check.csv')\n"
   ]
  },
  {
   "cell_type": "code",
   "execution_count": 69,
   "metadata": {},
   "outputs": [
    {
     "data": {
      "image/png": "[encoded data removed]",
      "text/plain": [
       "<Figure size 720x432 with 1 Axes>"
      ]
     },
     "metadata": {},
     "output_type": "display_data"
    }
   ],
   "source": [
    "fig, axes = plt.subplots(figsize=[10,6]) \n",
    "\n",
    "def plot_boxes():\n",
    "    \n",
    "    #sns.set(style=\"whitegrid\")\n",
    "    \n",
    "    sns_plot2 = sns.boxplot(data = open_food7, y= 'energy_100g_kj', \n",
    "                            whis=[5, 95], palette=\"Paired_r\")\n",
    "\n",
    "    for item in sns_plot2.get_xticklabels():\n",
    "        item.set_rotation(90)\n",
    "\n",
    "    sns_plot2.spines['top'].set_visible(False)\n",
    "    sns_plot2.spines['right'].set_visible(False)\n",
    "    sns_plot2.spines['left'].set_visible(False)\n",
    "    \n",
    "    # supprimer y-axis tick marks\n",
    "    sns_plot2.yaxis.set_ticks_position('none')\n",
    "    \n",
    "    # rajouter major gridlines y-axis\n",
    "    sns_plot2.grid(color='grey', axis='y', linestyle='-', linewidth=0.25, alpha=0.5)\n",
    "    sns.set(font_scale= 1.2)  \n",
    "    plt.title('Boxplot de energy_100g_kj', fontsize = 15)\n",
    "    \n",
    "    return sns_plot2\n",
    "    \n",
    "sns_plot = plot_boxes()\n"
   ]
  },
  {
   "cell_type": "code",
   "execution_count": 23,
   "metadata": {},
   "outputs": [
    {
     "data": {
      "image/png": "[encoded data removed]",
      "text/plain": [
       "<Figure size 720x432 with 1 Axes>"
      ]
     },
     "metadata": {},
     "output_type": "display_data"
    }
   ],
   "source": [
    "indexNames = open_food7[open_food7[\"energy_100g_kj\"] > 20000.0 ].index\n",
    "open_food7.drop(indexNames, inplace = True)\n",
    "\n",
    "fig, axes = plt.subplots(figsize=[10,6]) \n",
    "sns_plot = plot_boxes()"
   ]
  },
  {
   "cell_type": "code",
   "execution_count": 24,
   "metadata": {},
   "outputs": [
    {
     "name": "stdout",
     "output_type": "stream",
     "text": [
      "Il y a: 973733 lignes et 16 colonnes dans le dataframe.\n",
      "456.0 1682.0 1226.0 -1383.0 3521.0\n",
      "Il y a: 970392 lignes et 16 colonnes dans le dataframe.\n"
     ]
    },
    {
     "name": "stderr",
     "output_type": "stream",
     "text": [
      "<ipython-input-24-d3b6cfb8893e>:17: SettingWithCopyWarning: \n",
      "A value is trying to be set on a copy of a slice from a DataFrame\n",
      "\n",
      "See the caveats in the documentation: https://pandas.pydata.org/pandas-docs/stable/user_guide/indexing.html#returning-a-view-versus-a-copy\n",
      "  open_food7.energy_100g_kj[open_food7[\"index\"] == 1047647] = np.nan\n"
     ]
    }
   ],
   "source": [
    "print(\"Il y a:\",open_food7.shape[0],\"lignes et\", open_food7.shape[1],\"colonnes dans le dataframe.\")\n",
    "\n",
    "# trouver le inter quartile range et vérifier quelles valeurs sont classées comme étant des outliers \n",
    "Q1 = open_food7[\"energy_100g_kj\"].quantile(0.25)\n",
    "Q3 = open_food7[\"energy_100g_kj\"].quantile(0.75)\n",
    "IQR = Q3-Q1\n",
    "lower_bound1 = Q1 - (1.5 * IQR)\n",
    "upper_bound = Q3 + (1.5 * IQR)\n",
    "print(lower_bound1, upper_bound)\n",
    "# on n'utilise pas les lower et upper bounds qu'on a trouvé, parce que on perd trop de valeurs dans ce cas\n",
    "\n",
    "# supprimer les lignes aberrantes\n",
    "indexNames = open_food7[open_food7[\"energy_100g_kj\"] >  3770.0 ].index\n",
    "open_food7.drop(indexNames, inplace = True)\n",
    "\n",
    "open_food7 = open_food7[open_food7.index != 1047647]\n",
    "\n",
    "print(\"Il y a:\",open_food7.shape[0],\"lignes et\", open_food7.shape[1],\"colonnes dans le dataframe.\")\n"
   ]
  },
  {
   "cell_type": "code",
   "execution_count": 25,
   "metadata": {},
   "outputs": [
    {
     "name": "stdout",
     "output_type": "stream",
     "text": [
      "Il y a: 970392 lignes et 16 colonnes dans le dataframe.\n",
      "Il y a: 970363 lignes et 16 colonnes dans le dataframe.\n"
     ]
    }
   ],
   "source": [
    "print(\"Il y a:\",open_food7.shape[0],\"lignes et\", open_food7.shape[1],\"colonnes dans le dataframe.\")\n",
    "\n",
    "open_food17 = open_food7.sort_values(by = 'fat_100g', ascending=False).copy()\n",
    "#open_food17.head(900).to_csv('fat_100gcheck.csv')\n",
    "\n",
    "# supprimer les individus aberrants\n",
    "open_food7 = open_food7[open_food7.index != 1176715]\n",
    "indexNames = open_food7[open_food7['fat_100g'] > 100.0].index\n",
    "open_food7.drop(indexNames, inplace = True)\n",
    "\n",
    "print(\"Il y a:\",open_food7.shape[0],\"lignes et\", open_food7.shape[1],\"colonnes dans le dataframe.\")"
   ]
  },
  {
   "cell_type": "code",
   "execution_count": 26,
   "metadata": {},
   "outputs": [
    {
     "name": "stdout",
     "output_type": "stream",
     "text": [
      "Il y a: 970356 lignes et 16 colonnes dans le dataframe.\n"
     ]
    }
   ],
   "source": [
    "open_food17 = open_food7.sort_values(by = 'saturated_fat_100g', ascending=False)\n",
    "#open_food17.head(500).to_csv('sat_fat_check.csv')\n",
    "\n",
    "# supprimer les individus aberrants\n",
    "open_food7 = open_food7[open_food7.index != 254817]\n",
    "open_food7 = open_food7[open_food7.index != 173051]\n",
    "\n",
    "indexNames = open_food7[open_food7['saturated_fat_100g'] > 100.0].index\n",
    "open_food7.drop(indexNames, inplace = True)\n",
    "\n",
    "print(\"Il y a:\",open_food7.shape[0],\"lignes et\", open_food7.shape[1],\"colonnes dans le dataframe.\")"
   ]
  },
  {
   "cell_type": "code",
   "execution_count": 27,
   "metadata": {},
   "outputs": [
    {
     "name": "stdout",
     "output_type": "stream",
     "text": [
      "Il y a: 970356 lignes et 16 colonnes dans le dataframe.\n",
      "Il y a: 970286 lignes et 16 colonnes dans le dataframe.\n"
     ]
    }
   ],
   "source": [
    "print(\"Il y a:\",open_food7.shape[0],\"lignes et\", open_food7.shape[1],\"colonnes dans le dataframe.\")\n",
    "\n",
    "open_food17 = open_food7.sort_values(by = 'carbohydrates_100g', ascending=False)\n",
    "#open_food17.head(800).to_csv('carbohydratescheck.csv')\n",
    "\n",
    "# supprimer les individus aberrants\n",
    "indexNames = open_food7[open_food7['carbohydrates_100g'] > 100].index\n",
    "open_food7.drop(indexNames, inplace=True)\n",
    "\n",
    "print(\"Il y a:\",open_food7.shape[0],\"lignes et\", open_food7.shape[1],\"colonnes dans le dataframe.\")\n"
   ]
  },
  {
   "cell_type": "code",
   "execution_count": 28,
   "metadata": {},
   "outputs": [
    {
     "name": "stdout",
     "output_type": "stream",
     "text": [
      "Il y a: 970286 lignes et 16 colonnes dans le dataframe.\n",
      "Il y a: 970279 lignes et 16 colonnes dans le dataframe.\n"
     ]
    }
   ],
   "source": [
    "print(\"Il y a:\",open_food7.shape[0],\"lignes et\", open_food7.shape[1],\"colonnes dans le dataframe.\")\n",
    "\n",
    "open_food17 = open_food7.sort_values(by = 'sugars_100g', ascending=False)\n",
    "#open_food17.head(800).to_csv('sugar_check.csv')\n",
    "\n",
    "# supprimer les individus aberrants\n",
    "indexNames = open_food7[open_food7['sugars_100g'] > 100.0].index\n",
    "open_food7.drop(indexNames, inplace=True)\n",
    "indexNames = open_food7[open_food7['sugars_100g'] < 0].index\n",
    "open_food7.drop(indexNames, inplace=True)\n",
    "\n",
    "open_food17 = open_food7.sort_values(by = 'sugars_100g', ascending=False)\n",
    "#open_food17.head(800).to_csv('sugar_check2.csv')\n",
    "\n",
    "print(\"Il y a:\",open_food7.shape[0],\"lignes et\", open_food7.shape[1],\"colonnes dans le dataframe.\")\n"
   ]
  },
  {
   "cell_type": "code",
   "execution_count": 29,
   "metadata": {},
   "outputs": [
    {
     "name": "stdout",
     "output_type": "stream",
     "text": [
      "Il y a: 970279 lignes et 16 colonnes dans le dataframe.\n",
      "Il y a: 970233 lignes et 16 colonnes dans le dataframe.\n"
     ]
    }
   ],
   "source": [
    "print(\"Il y a:\",open_food7.shape[0],\"lignes et\", open_food7.shape[1],\"colonnes dans le dataframe.\")\n",
    "\n",
    "open_food17 = open_food7.sort_values(by ='fiber_100g', ascending=False)\n",
    "#open_food17.head(800).to_csv('fiber_check.csv')\n",
    "\n",
    "# supprimer les individus aberrants\n",
    "indexNames = open_food7[open_food7['fiber_100g'] > 92.0].index\n",
    "open_food7.drop(indexNames, inplace=True)\n",
    "indexNames = open_food7[open_food7['fiber_100g'] < 0].index\n",
    "open_food7.drop(indexNames, inplace=True)\n",
    "\n",
    "print(\"Il y a:\",open_food7.shape[0],\"lignes et\", open_food7.shape[1],\"colonnes dans le dataframe.\")"
   ]
  },
  {
   "cell_type": "code",
   "execution_count": 30,
   "metadata": {},
   "outputs": [
    {
     "name": "stdout",
     "output_type": "stream",
     "text": [
      "Il y a: 970233 lignes et 16 colonnes dans le dataframe.\n",
      "Il y a: 970148 lignes et 16 colonnes dans le dataframe.\n"
     ]
    }
   ],
   "source": [
    "print(\"Il y a:\",open_food7.shape[0],\"lignes et\", open_food7.shape[1],\"colonnes dans le dataframe.\")\n",
    "\n",
    "open_food17 = open_food7.sort_values(by ='proteins_100g', ascending=False)\n",
    "#open_food17.head(500).to_csv('protein_check.csv')\n",
    "\n",
    "# supprimer les individus aberrants\n",
    "indexNames = open_food7[open_food7['proteins_100g'] > 98.0].index\n",
    "open_food7.drop(indexNames, inplace=True)\n",
    "\n",
    "print(\"Il y a:\",open_food7.shape[0],\"lignes et\", open_food7.shape[1],\"colonnes dans le dataframe.\")"
   ]
  },
  {
   "cell_type": "code",
   "execution_count": 31,
   "metadata": {},
   "outputs": [
    {
     "name": "stdout",
     "output_type": "stream",
     "text": [
      "Il y a: 970148 lignes et 16 colonnes dans le dataframe.\n",
      "Il y a: 969399 lignes et 16 colonnes dans le dataframe.\n"
     ]
    }
   ],
   "source": [
    "print(\"Il y a:\",open_food7.shape[0],\"lignes et\", open_food7.shape[1],\"colonnes dans le dataframe.\")\n",
    "\n",
    "open_food17 = open_food7.sort_values(by = 'salt_100g', ascending=False)\n",
    "#open_food17.head(4000).to_csv('salt_check.csv')\n",
    "\n",
    "# supprimer les individus aberrants\n",
    "indexNames = open_food7[open_food7['salt_100g'] >= 99.0].index\n",
    "open_food7.drop(indexNames, inplace=True)\n",
    "\n",
    "print(\"Il y a:\",open_food7.shape[0],\"lignes et\", open_food7.shape[1],\"colonnes dans le dataframe.\")"
   ]
  },
  {
   "cell_type": "code",
   "execution_count": 33,
   "metadata": {},
   "outputs": [
    {
     "name": "stdout",
     "output_type": "stream",
     "text": [
      "Il y a: 969398 lignes et 16 colonnes dans le dataframe.\n"
     ]
    }
   ],
   "source": [
    "open_food17 = open_food7.sort_values(by = 'sodium_100g', ascending=False)\n",
    "#open_food17.head(800).to_csv('sodium_check.csv')\n",
    "\n",
    "# supprimer les individus aberrants\n",
    "indexNames = open_food7[open_food7['sodium_100g'] > 40.00].index\n",
    "open_food7.drop(indexNames, inplace=True)\n",
    "\n",
    "print(\"Il y a:\",open_food7.shape[0],\"lignes et\", open_food7.shape[1],\"colonnes dans le dataframe.\")"
   ]
  },
  {
   "cell_type": "code",
   "execution_count": 34,
   "metadata": {},
   "outputs": [],
   "source": [
    "open_food17 = open_food7.sort_values(by = 'fruits_vegetables_nuts_100g', ascending=False)\n",
    "#open_food17.head(9000).to_csv('fruits_vegetables_nuts_check.csv')\n"
   ]
  },
  {
   "cell_type": "code",
   "execution_count": 35,
   "metadata": {},
   "outputs": [],
   "source": [
    "open_food17 = open_food7.sort_values(by = 'fruits_vegetables_nuts_estimate_100g', ascending=False)\n",
    "#open_food17.head(9000).to_csv('fruits_vegetables_nuts_check.csv')\n"
   ]
  },
  {
   "cell_type": "code",
   "execution_count": 36,
   "metadata": {},
   "outputs": [
    {
     "name": "stdout",
     "output_type": "stream",
     "text": [
      "Il y a: 969398 lignes et 16 colonnes dans le dataframe.\n",
      "Il y a: 959151 lignes et 16 colonnes dans le dataframe.\n"
     ]
    }
   ],
   "source": [
    "print(\"Il y a:\",open_food7.shape[0],\"lignes et\", open_food7.shape[1],\"colonnes dans le dataframe.\")\n",
    "\n",
    "open_food17 = open_food7.sort_values(by = \"energy_100g_kj\", ascending=False)\n",
    "#open_food17.tail(22000).to_csv('energy_vals_tail_check.csv')\n",
    "\n",
    "# supprimer les individus aberrants\n",
    "indexNames = open_food7[open_food7[\"energy_100g_kj\"] < 1.4 ].index\n",
    "open_food7.drop(indexNames, inplace = True)\n",
    "\n",
    "print(\"Il y a:\",open_food7.shape[0],\"lignes et\", open_food7.shape[1],\"colonnes dans le dataframe.\")\n"
   ]
  },
  {
   "cell_type": "code",
   "execution_count": 37,
   "metadata": {},
   "outputs": [
    {
     "name": "stdout",
     "output_type": "stream",
     "text": [
      "Il y a: 959151 lignes et 16 colonnes dans le dataframe.\n"
     ]
    }
   ],
   "source": [
    "nulls_df7 = vals_manquantes(open_food7)\n",
    "nulls_df7.to_csv('missing_open_food7.csv')\n",
    "\n",
    "print(\"Il y a:\",open_food7.shape[0],\"lignes et\", open_food7.shape[1],\"colonnes dans le dataframe.\")\n"
   ]
  },
  {
   "cell_type": "code",
   "execution_count": 38,
   "metadata": {},
   "outputs": [
    {
     "name": "stdout",
     "output_type": "stream",
     "text": [
      "Index(['index', 'creator', 'product_name', 'nutriscore_score',\n",
      "       'nutriscore_grade', 'energy_100g_kj', 'fat_100g', 'saturated_fat_100g',\n",
      "       'carbohydrates_100g', 'sugars_100g', 'fiber_100g', 'proteins_100g',\n",
      "       'salt_100g', 'sodium_100g', 'fruits_vegetables_nuts_100g',\n",
      "       'fruits_vegetables_nuts_estimate_100g'],\n",
      "      dtype='object')\n",
      "Il y a: 959151 lignes et 13 colonnes dans le dataframe.\n"
     ]
    }
   ],
   "source": [
    "food_cols5 = open_food7.columns\n",
    "print(food_cols5)\n",
    "\n",
    "list = ['creator', 'product_name', 'nutriscore_score',\n",
    "        'nutriscore_grade', 'energy_100g_kj', 'fat_100g', 'saturated_fat_100g',\n",
    "        'carbohydrates_100g', 'sugars_100g', 'fiber_100g', 'proteins_100g', 'salt_100g', \n",
    "        'fruits_vegetables_nuts_100g']\n",
    "\n",
    "open_food8 = open_food7[list].copy()\n",
    "\n",
    "print(\"Il y a:\",open_food8.shape[0],\"lignes et\", open_food8.shape[1],\"colonnes dans le dataframe.\")\n"
   ]
  },
  {
   "cell_type": "code",
   "execution_count": 39,
   "metadata": {},
   "outputs": [
    {
     "name": "stdout",
     "output_type": "stream",
     "text": [
      "Index(['creator', 'product_name', 'nutriscore_score', 'nutriscore_grade',\n",
      "       'energy_100g_kj', 'fat_100g', 'saturated_fat_100g',\n",
      "       'carbohydrates_100g', 'sugars_100g', 'fiber_100g', 'proteins_100g',\n",
      "       'salt_100g', 'fruits_vegetables_nuts_100g'],\n",
      "      dtype='object')\n"
     ]
    }
   ],
   "source": [
    "print(open_food8.columns)\n",
    "\n",
    "sub = ['energy_100g_kj', 'fat_100g', 'saturated_fat_100g',\n",
    "       'carbohydrates_100g', 'sugars_100g', 'fiber_100g', 'proteins_100g',\n",
    "       'salt_100g', 'fruits_vegetables_nuts_100g']\n"
   ]
  },
  {
   "cell_type": "code",
   "execution_count": 40,
   "metadata": {},
   "outputs": [
    {
     "name": "stdout",
     "output_type": "stream",
     "text": [
      "Il y a: 959151 lignes et 13 colonnes dans le dataframe.\n",
      "Il y a: 956486 lignes et 13 colonnes dans le dataframe.\n"
     ]
    }
   ],
   "source": [
    "print(\"Il y a:\",open_food8.shape[0],\"lignes et\", open_food8.shape[1],\"colonnes dans le dataframe.\")\n",
    "\n",
    "# on supprime les lignes qui n'ont pas de nom de produit et pas d'information de nutrition\n",
    "open_food8 = open_food8.dropna(axis=0, how=\"all\", subset= sub, thresh = 5)\n",
    "\n",
    "print(\"Il y a:\",open_food8.shape[0],\"lignes et\", open_food8.shape[1],\"colonnes dans le dataframe.\")\n"
   ]
  },
  {
   "cell_type": "code",
   "execution_count": 41,
   "metadata": {},
   "outputs": [],
   "source": [
    "nulls_df8 = vals_manquantes(open_food8)\n",
    "nulls_df8.to_csv('missing_open_food8.csv')\n"
   ]
  },
  {
   "cell_type": "code",
   "execution_count": 42,
   "metadata": {},
   "outputs": [
    {
     "data": {
      "image/png": "[encoded data removed]",
      "text/plain": [
       "<Figure size 720x504 with 1 Axes>"
      ]
     },
     "metadata": {
      "needs_background": "light"
     },
     "output_type": "display_data"
    }
   ],
   "source": [
    "make_heatmap(open_food8, 40, 10, 7)\n"
   ]
  },
  {
   "cell_type": "markdown",
   "metadata": {},
   "source": [
    "## Traitement de Valeurs Manquantes"
   ]
  },
  {
   "cell_type": "code",
   "execution_count": 43,
   "metadata": {},
   "outputs": [],
   "source": [
    "open_food8.to_csv('open_food_forknn.csv')"
   ]
  },
  {
   "cell_type": "code",
   "execution_count": 44,
   "metadata": {},
   "outputs": [],
   "source": [
    "from sklearn.impute import KNNImputer\n",
    "\n",
    "# les valeurs sont distribuées dans l'espace et ont des voisins\n",
    "def KNN_imputation(df, columns):\n",
    "    knn_imputer = KNNImputer(n_neighbors = 5, weights = \"uniform\")\n",
    "    for column in columns:\n",
    "        df[column] = knn_imputer.fit_transform(df[[column]])\n",
    "    return df\n",
    "\n",
    "# columns est la liste des colonnes que je veux imputer \n",
    "# n_neighbors est le nombre voisins que je regarde (et donc sur lesquels je fais la moyenne) \n",
    "# pour imputer ma valeur. "
   ]
  },
  {
   "cell_type": "code",
   "execution_count": 45,
   "metadata": {},
   "outputs": [
    {
     "name": "stdout",
     "output_type": "stream",
     "text": [
      "Execution time in minutes: 1.45290713707606\n",
      "Execution time in seconds: 87.1744282245636\n"
     ]
    }
   ],
   "source": [
    "import time\n",
    "startTime = time.time()\n",
    "\n",
    "open_food9 = KNN_imputation(open_food8, ['proteins_100g'])\n",
    "\n",
    "executionTime = (time.time() - startTime)\n",
    "executionTimeMin = executionTime / 60\n",
    "print('Execution time in minutes: ' + str(executionTimeMin))\n",
    "print('Execution time in seconds: ' + str(executionTime))"
   ]
  },
  {
   "cell_type": "code",
   "execution_count": 46,
   "metadata": {},
   "outputs": [
    {
     "name": "stdout",
     "output_type": "stream",
     "text": [
      "Execution time in minutes: 2.9158350268999738\n",
      "Execution time in seconds: 174.9501016139984\n"
     ]
    }
   ],
   "source": [
    "startTime = time.time()\n",
    "\n",
    "open_food9 = KNN_imputation(open_food9, ['fat_100g'])\n",
    "\n",
    "executionTime = (time.time() - startTime)\n",
    "executionTimeMin = executionTime / 60\n",
    "print('Execution time in minutes: ' + str(executionTimeMin))\n",
    "print('Execution time in seconds: ' + str(executionTime))\n"
   ]
  },
  {
   "cell_type": "code",
   "execution_count": 47,
   "metadata": {},
   "outputs": [
    {
     "name": "stdout",
     "output_type": "stream",
     "text": [
      "Execution time in minutes: 3.1520108501116435\n",
      "Execution time in seconds: 189.1206510066986\n"
     ]
    }
   ],
   "source": [
    "startTime = time.time()\n",
    "\n",
    "open_food9 = KNN_imputation(open_food9, ['carbohydrates_100g'])\n",
    "\n",
    "executionTime = (time.time() - startTime)\n",
    "executionTimeMin = executionTime / 60\n",
    "print('Execution time in minutes: ' + str(executionTimeMin))\n",
    "print('Execution time in seconds: ' + str(executionTime))"
   ]
  },
  {
   "cell_type": "code",
   "execution_count": 48,
   "metadata": {},
   "outputs": [
    {
     "name": "stdout",
     "output_type": "stream",
     "text": [
      "Execution time in minutes: 7.587377897898356\n",
      "Execution time in seconds: 455.24267387390137\n"
     ]
    }
   ],
   "source": [
    "startTime = time.time()\n",
    "\n",
    "open_food9 = KNN_imputation(open_food9, ['sugars_100g'])\n",
    "\n",
    "executionTime = (time.time() - startTime)\n",
    "executionTimeMin = executionTime / 60\n",
    "print('Execution time in minutes: ' + str(executionTimeMin))\n",
    "print('Execution time in seconds: ' + str(executionTime))"
   ]
  },
  {
   "cell_type": "code",
   "execution_count": 49,
   "metadata": {},
   "outputs": [
    {
     "name": "stdout",
     "output_type": "stream",
     "text": [
      "Execution time in minutes: 18.894218413035073\n",
      "Execution time in seconds: 1133.6531047821045\n"
     ]
    }
   ],
   "source": [
    "startTime = time.time()\n",
    "\n",
    "open_food9 = KNN_imputation(open_food9, ['saturated_fat_100g'])\n",
    "\n",
    "executionTime = (time.time() - startTime)\n",
    "executionTimeMin = executionTime / 60\n",
    "print('Execution time in minutes: ' + str(executionTimeMin))\n",
    "print('Execution time in seconds: ' + str(executionTime))\n"
   ]
  },
  {
   "cell_type": "code",
   "execution_count": 51,
   "metadata": {},
   "outputs": [
    {
     "name": "stdout",
     "output_type": "stream",
     "text": [
      "Execution time in minutes: 28.322951618830363\n",
      "Execution time in seconds: 1699.3770971298218\n"
     ]
    }
   ],
   "source": [
    "startTime = time.time()\n",
    "\n",
    "open_food9 = KNN_imputation(open_food9, ['salt_100g'])\n",
    "\n",
    "executionTime = (time.time() - startTime)\n",
    "executionTimeMin = executionTime / 60\n",
    "print('Execution time in minutes: ' + str(executionTimeMin))\n",
    "print('Execution time in seconds: ' + str(executionTime))"
   ]
  },
  {
   "cell_type": "code",
   "execution_count": 52,
   "metadata": {},
   "outputs": [
    {
     "name": "stdout",
     "output_type": "stream",
     "text": [
      "Execution time in minutes: 1.0612614552179973\n",
      "Execution time in seconds: 63.675687313079834\n"
     ]
    }
   ],
   "source": [
    "startTime = time.time()\n",
    "\n",
    "open_food9 = KNN_imputation(open_food9, ['energy_100g_kj'])\n",
    "\n",
    "executionTime = (time.time() - startTime)\n",
    "executionTimeMin = executionTime / 60\n",
    "print('Execution time in minutes: ' + str(executionTimeMin))\n",
    "print('Execution time in seconds: ' + str(executionTime))\n"
   ]
  },
  {
   "cell_type": "code",
   "execution_count": 53,
   "metadata": {},
   "outputs": [],
   "source": [
    "open_food9.to_csv('open_food_fornb2.csv')"
   ]
  },
  {
   "cell_type": "code",
   "execution_count": 64,
   "metadata": {},
   "outputs": [
    {
     "name": "stdout",
     "output_type": "stream",
     "text": [
      "Il y a: 956486 lignes et 13 colonnes dans le dataframe.\n"
     ]
    }
   ],
   "source": [
    "nulls_df9 = vals_manquantes(open_food9)\n",
    "nulls_df9.to_csv('missing_open_food9.csv')\n",
    "\n",
    "print(\"Il y a:\",open_food9.shape[0],\"lignes et\", open_food9.shape[1],\"colonnes dans le dataframe.\")"
   ]
  }
 ],
 "metadata": {
  "kernelspec": {
   "display_name": "Python 3",
   "language": "python",
   "name": "python3"
  },
  "language_info": {
   "codemirror_mode": {
    "name": "ipython",
    "version": 3
   },
   "file_extension": ".py",
   "mimetype": "text/x-python",
   "name": "python",
   "nbconvert_exporter": "python",
   "pygments_lexer": "ipython3",
   "version": "3.8.5"
  }
 },
 "nbformat": 4,
 "nbformat_minor": 4
}
